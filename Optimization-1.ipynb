{
 "cells": [
  {
   "cell_type": "code",
   "execution_count": 1,
   "id": "inner-qualification",
   "metadata": {},
   "outputs": [],
   "source": [
    "import numpy as np\n",
    "land_size=50\n",
    "crop_list=[]\n",
    "required_crop_list=crop_list[:5]\n",
    "crop_land_size=[]\n",
    "crop_price=[1,14,3,5,9]"
   ]
  },
  {
   "cell_type": "code",
   "execution_count": 2,
   "id": "diverse-device",
   "metadata": {},
   "outputs": [],
   "source": [
    "def cons_f(x):\n",
    "    return x.sum()\n",
    "def profit(x):\n",
    "    profit=0\n",
    "    for i in range(5):\n",
    "        profit=profit+(x[i]*crop_price[i])\n",
    "    return -profit \n",
    "from scipy.optimize import NonlinearConstraint, minimize,Bounds\n",
    "nonlinear_constraint = NonlinearConstraint(cons_f, land_size-1, land_size)\n",
    "bounds = Bounds([0,0,0,0,0],[land_size/3,land_size/3,land_size/3,land_size/3,land_size/3])"
   ]
  },
  {
   "cell_type": "code",
   "execution_count": 3,
   "id": "indian-extreme",
   "metadata": {},
   "outputs": [],
   "source": [
    "x0 = np.array([0,0,0,0,0])\n",
    "res = minimize(profit, x0,\n",
    "               constraints=[nonlinear_constraint], bounds=bounds)#,options={'verbose': 1})"
   ]
  },
  {
   "cell_type": "code",
   "execution_count": 6,
   "id": "sapphire-scenario",
   "metadata": {},
   "outputs": [
    {
     "data": {
      "text/plain": [
       "array([0.00000000e+00, 1.66666667e+01, 1.84430249e-12, 1.66666667e+01,\n",
       "       1.66666667e+01])"
      ]
     },
     "execution_count": 6,
     "metadata": {},
     "output_type": "execute_result"
    }
   ],
   "source": [
    "res.x"
   ]
  }
 ],
 "metadata": {
  "kernelspec": {
   "display_name": "Python 3",
   "language": "python",
   "name": "python3"
  },
  "language_info": {
   "codemirror_mode": {
    "name": "ipython",
    "version": 3
   },
   "file_extension": ".py",
   "mimetype": "text/x-python",
   "name": "python",
   "nbconvert_exporter": "python",
   "pygments_lexer": "ipython3",
   "version": "3.7.8"
  }
 },
 "nbformat": 4,
 "nbformat_minor": 5
}
