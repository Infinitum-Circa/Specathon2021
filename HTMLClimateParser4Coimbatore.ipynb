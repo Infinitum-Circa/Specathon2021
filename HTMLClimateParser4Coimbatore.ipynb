{
 "cells": [
  {
   "cell_type": "code",
   "execution_count": null,
   "metadata": {},
   "outputs": [],
   "source": [
    "import urllib.request \n",
    "from pprint import pprint\n",
    "from html_table_parser import HTMLTableParser\n",
    "import pandas as pd\n",
    "import csv\n",
    "import string\n",
    "headers={'User-Agent':'Whatever'}\n",
    "def url_get_contents(url):\n",
    "    req= urllib.request.Request(url=url,headers=headers)\n",
    "    f=urllib.request.urlopen(req)\n",
    "    return f.read()"
   ]
  },
  {
   "cell_type": "code",
   "execution_count": null,
   "metadata": {},
   "outputs": [],
   "source": [
    "xhtml_list=[url_get_contents('https://en.climate-data.org/asia/india/tamil-nadu/coimbatore-2788/t/january-1/').decode('utf-8'),url_get_contents('https://en.climate-data.org/asia/india/tamil-nadu/coimbatore-2788/t/february-2/').decode('utf-8'),url_get_contents('https://en.climate-data.org/asia/india/tamil-nadu/coimbatore-2788/t/march-3/').decode('utf-8'),url_get_contents('https://en.climate-data.org/asia/india/tamil-nadu/coimbatore-2788/t/april-4/').decode('utf-8'),url_get_contents('https://en.climate-data.org/asia/india/tamil-nadu/coimbatore-2788/t/may-5/').decode('utf-8'),url_get_contents('https://en.climate-data.org/asia/india/tamil-nadu/coimbatore-2788/t/june-6/').decode('utf-8'),url_get_contents('https://en.climate-data.org/asia/india/tamil-nadu/coimbatore-2788/t/july-7/').decode('utf-8'),url_get_contents('https://en.climate-data.org/asia/india/tamil-nadu/coimbatore-2788/t/august-8/').decode('utf-8'),url_get_contents('https://en.climate-data.org/asia/india/tamil-nadu/coimbatore-2788/t/september-9/').decode('utf-8'),url_get_contents('https://en.climate-data.org/asia/india/tamil-nadu/coimbatore-2788/t/october-10/').decode('utf-8'),url_get_contents('https://en.climate-data.org/asia/india/tamil-nadu/coimbatore-2788/t/november-11/').decode('utf-8'),url_get_contents('https://en.climate-data.org/asia/india/tamil-nadu/coimbatore-2788/t/december-12/').decode('utf-8')]\n",
    "df=pd.DataFrame(columns=['Month','Average Temperature','Maximum Temperature','Minimum Temperature','Rain/Precipitation'])\n",
    "df.to_csv('CoimbatoreYearlyFinalClimate.csv')\n",
    "frames=[df]\n",
    "for i in range(len(xhtml_list)):\n",
    "    p=HTMLTableParser()\n",
    "    p.feed(xhtml_list[i])\n",
    "    pprint(p.tables[3])\n",
    "    print(\"\\n\\nPANDAS DATAFRAME\\n\")\n",
    "    print(pd.DataFrame(p.tables[4]))\n",
    "    months_list=[]\n",
    "    average_temp_list=[]\n",
    "    max_temp_list=[]\n",
    "    min_temp_list=[]\n",
    "    rain_list=[]\n",
    "    \n",
    "    for j in range(1,len(p.tables[4])):\n",
    "        months_list.append(p.tables[4][j][0])\n",
    "        average_temp_list.append(p.tables[4][j][1])\n",
    "        max_temp_list.append(p.tables[4][j][2])\n",
    "        min_temp_list.append(p.tables[4][j][3])\n",
    "        rain_list.append(p.tables[4][j][4])\n",
    "    dfi=pd.DataFrame(list(zip(months_list, average_temp_list,max_temp_list,min_temp_list,rain_list)))\n",
    "    dfi.to_csv('CoimbatoreYearlyFinalClimate.csv', mode = 'a', header = False)\n",
    "\n",
    "\n",
    "input_file = open('CoimbatoreYearlyFinalClimate.csv', 'r')\n",
    "output_file = open('CoimbatoreYearlyFinalRevised.csv', 'w')\n",
    "data = csv.reader(input_file)\n",
    "writer = csv.writer(output_file)\n",
    "specials = 'Â°'\n",
    "for line in data:\n",
    "    line = [value.replace(specials, '') for value in line]\n",
    "    writer.writerow(line)\n",
    "input_file.close()\n",
    "output_file.close()"
   ]
  }
 ],
 "metadata": {
  "kernelspec": {
   "display_name": "Python 3",
   "language": "python",
   "name": "python3"
  },
  "language_info": {
   "codemirror_mode": {
    "name": "ipython",
    "version": 3
   },
   "file_extension": ".py",
   "mimetype": "text/x-python",
   "name": "python",
   "nbconvert_exporter": "python",
   "pygments_lexer": "ipython3",
   "version": "3.7.4"
  }
 },
 "nbformat": 4,
 "nbformat_minor": 4
}
